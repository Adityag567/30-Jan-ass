{
 "cells": [
  {
   "cell_type": "code",
   "execution_count": null,
   "id": "8d944f12-288b-4108-b242-985cfba81cf8",
   "metadata": {},
   "outputs": [],
   "source": [
    "write a program to accept percentage from user and display the grade"
   ]
  },
  {
   "cell_type": "code",
   "execution_count": null,
   "id": "7cf7fa72-6dc7-4189-88a9-0c1dac0295c0",
   "metadata": {},
   "outputs": [],
   "source": [
    "marks=int(input(\"enter a marks\"))\n",
    "if(marks>90):\n",
    "    print(\"Grade: A\")\n",
    "elif(marks>80 & marks<=90):\n",
    "    print(\"grade: B\")\n",
    "elif(marks>=60 & marks<=80):\n",
    "    print(\"grade: C\")\n",
    "else:\n",
    "    print(\"Grade: D\")\n",
    "\n"
   ]
  },
  {
   "cell_type": "code",
   "execution_count": null,
   "id": "3a5dca91-a9dc-41e3-bbbd-dffdc34e9d73",
   "metadata": {},
   "outputs": [],
   "source": [
    "Q2.write a program accept the cost price and display the road tax to be pai"
   ]
  },
  {
   "cell_type": "code",
   "execution_count": null,
   "id": "4ba052b4-28e2-406b-97b5-c29ebce257e1",
   "metadata": {},
   "outputs": [],
   "source": [
    "cp = float(input(\"enter the cost price of the bike:  \"))\n",
    "if cp>100000:\n",
    "      t=0.15\n",
    "elif cp>50000 and cp<=100000:\n",
    "       t=0.10\n",
    "elif cp<=50000:\n",
    "       t=0.005\n",
    "rate=cp*t\n",
    "print(rate,\"is road tax to be paid\")"
   ]
  },
  {
   "cell_type": "code",
   "execution_count": null,
   "id": "6ffb3528-7d0e-45c2-b0c1-74c2c5e106c9",
   "metadata": {},
   "outputs": [],
   "source": [
    "Q3.Accept any city from  the user and display the monument of that city"
   ]
  },
  {
   "cell_type": "code",
   "execution_count": null,
   "id": "340ceb7f-f4ab-4ca6-86a1-b5fc8f15a724",
   "metadata": {},
   "outputs": [],
   "source": [
    "city = input(\"enter city \")\n",
    "if city==\"Delhi\":\n",
    "    print(\"Red Fort\")\n",
    "elif city==\"Agra\":\n",
    "    print(\"Taj Mahal\")\n",
    "elif city==\"Jaipur\":\n",
    "    print(\"Jal mahal\")"
   ]
  },
  {
   "cell_type": "code",
   "execution_count": null,
   "id": "eedb1db1-5118-46ce-a5cd-77f34b355ccb",
   "metadata": {},
   "outputs": [],
   "source": [
    "Q4.check how many times a given number can be divided by 3 before it is less than or equal to 10"
   ]
  },
  {
   "cell_type": "code",
   "execution_count": null,
   "id": "0888eb55-27d3-44a5-bdec-7d627b3f3178",
   "metadata": {},
   "outputs": [],
   "source": [
    "n=input(\"enter number\")\n",
    "i=0\n",
    "while n % 3 == 0:\n",
    "    n /= 3\n",
    "    i += 1\n",
    "return i"
   ]
  },
  {
   "cell_type": "code",
   "execution_count": null,
   "id": "3e19226b-21ae-45a0-ae06-8a95bcf6f774",
   "metadata": {},
   "outputs": [],
   "source": [
    "Q5.Why and when  to use while loop  in python give  a detail description with example"
   ]
  },
  {
   "cell_type": "code",
   "execution_count": null,
   "id": "16949fba-8302-452d-8146-255793b7fa21",
   "metadata": {},
   "outputs": [],
   "source": [
    "The while loop is used to repeat a section of code an unknown number\n",
    "of times until a specific condition is met.\n",
    "\n",
    "n=int(input(\"enter number\")\n",
    "\n",
    "i=1\n",
    "while i<=n:\n",
    "    j=n\n",
    "    while j>=i:\n",
    "        print(\"*\"<end=\"\")\n",
    "        j-=1\n",
    "     print()\n",
    "     i+=1\n",
    "\n"
   ]
  },
  {
   "cell_type": "code",
   "execution_count": null,
   "id": "fd28fed2-ee64-4420-a535-6479cecebf3d",
   "metadata": {},
   "outputs": [],
   "source": [
    "Q6. Use nested while loop to print 3 different pattern"
   ]
  },
  {
   "cell_type": "code",
   "execution_count": null,
   "id": "97124301-6068-47e5-ba20-9bff277270f7",
   "metadata": {},
   "outputs": [],
   "source": [
    "i=1\n",
    "while i<=5\n",
    "    j=1\n",
    "    while j<=i:\n",
    "        print(j,end='')\n",
    "        j=j+1\n",
    "    print(\"\")\n",
    "    i=i+1\n",
    "\n",
    "\n",
    "\n",
    "\n",
    "n=int(input(\"enter number\")\n",
    "\n",
    "i=1\n",
    "while i<=n:\n",
    "    j=n\n",
    "    while j>=i:\n",
    "        print(\"*\"<end=\"\")\n",
    "        j-=1\n",
    "     print()\n",
    "     i+=1\n",
    "\n",
    "\n",
    "\n",
    "\n",
    "n=int(input(\"enter no\")\n",
    "i=1\n",
    "while i<=n:\n",
    "    j=1\n",
    "    while j<=i:\n",
    "        print(\"*\",end =\"\")\n",
    "        j+=1\n",
    "     print()\n",
    "     i+=1"
   ]
  },
  {
   "cell_type": "code",
   "execution_count": null,
   "id": "cff1f264-d521-4e99-b88c-e3cbec7716e5",
   "metadata": {},
   "outputs": [],
   "source": [
    "Q7.Reverse a While loop to display number from 10 to 1."
   ]
  },
  {
   "cell_type": "code",
   "execution_count": null,
   "id": "2a848a57-5a7e-4737-946f-1c08c397fc52",
   "metadata": {},
   "outputs": [],
   "source": [
    "x=10\n",
    "while x>0:\n",
    "   print(x,end=\"\")\n",
    "    x-=1"
   ]
  },
  {
   "cell_type": "code",
   "execution_count": null,
   "id": "14e23a98-ac7c-41bd-b3b9-f2e4f7b91bd0",
   "metadata": {},
   "outputs": [],
   "source": [
    "pp"
   ]
  },
  {
   "cell_type": "code",
   "execution_count": null,
   "id": "459fee28-a714-4b8d-96ed-269f27a4b35d",
   "metadata": {},
   "outputs": [],
   "source": []
  }
 ],
 "metadata": {
  "kernelspec": {
   "display_name": "Python 3 (ipykernel)",
   "language": "python",
   "name": "python3"
  },
  "language_info": {
   "codemirror_mode": {
    "name": "ipython",
    "version": 3
   },
   "file_extension": ".py",
   "mimetype": "text/x-python",
   "name": "python",
   "nbconvert_exporter": "python",
   "pygments_lexer": "ipython3",
   "version": "3.12.0"
  }
 },
 "nbformat": 4,
 "nbformat_minor": 5
}
